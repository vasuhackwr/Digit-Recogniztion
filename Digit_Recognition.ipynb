{
 "cells": [
  {
   "cell_type": "markdown",
   "id": "0d4f98d5-386f-4a59-90ed-223200b287d3",
   "metadata": {
    "tags": []
   },
   "source": [
    "# **PROJECT ON DIGIT RECOGNITION**\n",
    "\n",
    "* *AUTHOR: TUSHAR SINGH*\n",
    "* *B.Tech - C.O.E*\n",
    "* *Thapar University, Patiala*"
   ]
  },
  {
   "cell_type": "markdown",
   "id": "e6b56097-6a7f-47b3-939a-2fa35e2a19c0",
   "metadata": {},
   "source": [
    "## Importing The Required Packages"
   ]
  },
  {
   "cell_type": "code",
   "execution_count": 1,
   "id": "832a4368-c73e-4278-8402-bd9fe1177267",
   "metadata": {},
   "outputs": [],
   "source": [
    "from tensorflow.keras.datasets import mnist\n",
    "from tensorflow.keras.layers import *\n",
    "from tensorflow.keras.models import Sequential\n",
    "from tensorflow.keras.utils import plot_model\n",
    "import matplotlib.pyplot as plt\n"
   ]
  },
  {
   "cell_type": "markdown",
   "id": "0926045d-e1bd-4404-9097-aa61466a65f8",
   "metadata": {},
   "source": [
    "## Loading the dataset "
   ]
  },
  {
   "cell_type": "code",
   "execution_count": 2,
   "id": "d6d135b6-9c72-4710-b22a-4ac4c22aad16",
   "metadata": {},
   "outputs": [
    {
     "name": "stdout",
     "output_type": "stream",
     "text": [
      "(60000, 28, 28)\n",
      "(60000,)\n",
      "(10000, 28, 28)\n",
      "(10000,)\n"
     ]
    }
   ],
   "source": [
    "(x_train, y_train), (x_test, y_test) = mnist.load_data()\n",
    "print(x_train.shape)\n",
    "print(y_train.shape)\n",
    "print(x_test.shape)\n",
    "print(y_test.shape)"
   ]
  },
  {
   "cell_type": "markdown",
   "id": "343bbfa0-8da8-461e-935f-e984d8afa536",
   "metadata": {},
   "source": [
    "* MNIST Dataset has been loaded using tensorflow keras API.\n",
    "* This is a dataset of 60,000 28x28 grayscale images of the 10 digits, along with a test set of 10,000 images.\n",
    "* **x_train:** NumPy array of grayscale image data with shapes (60000, 28, 28), containing the training data.\n",
    "* **y_train:** NumPy array of digit labels (integers in range 0-9) with shape (60000,) for the training data.\n",
    "* **x_test:** NumPy array of grayscale image data with shapes (10000, 28, 28), containing the test data.\n",
    "* **y_test:** NumPy array of digit labels (integers in range 0-9) with shape (10000,) for the test data.\n",
    "* Pixel values range from 0 to 255."
   ]
  },
  {
   "cell_type": "markdown",
   "id": "b6156c9e-9d47-4975-86d7-bcb8c0a815a3",
   "metadata": {},
   "source": [
    "## Reshaping the dataset"
   ]
  },
  {
   "cell_type": "code",
   "execution_count": 3,
   "id": "29ba78f5-1556-4653-96bb-d09169418787",
   "metadata": {},
   "outputs": [
    {
     "name": "stdout",
     "output_type": "stream",
     "text": [
      "(60000, 28, 28, 1)\n",
      "(10000, 28, 28, 1)\n"
     ]
    }
   ],
   "source": [
    "x_train = x_train.reshape(60000, 28, 28, 1)\n",
    "x_test = x_test.reshape(10000, 28, 28, 1)\n",
    "\n",
    "print(x_train.shape)\n",
    "print(x_test.shape)"
   ]
  },
  {
   "cell_type": "markdown",
   "id": "699a171f-bf86-467e-a166-dedc2b3d8d4a",
   "metadata": {},
   "source": [
    "## Normalizing the data"
   ]
  },
  {
   "cell_type": "code",
   "execution_count": 4,
   "id": "68313ba8-7979-4c29-8ce8-1fb949c1db9b",
   "metadata": {},
   "outputs": [],
   "source": [
    "x_train = x_train.astype(\"float32\")\n",
    "x_test = x_test.astype(\"float32\")\n",
    "\n",
    "x_train = x_train/255.0\n",
    "x_test = x_test/255.0"
   ]
  },
  {
   "cell_type": "markdown",
   "id": "617ba518-47bc-47a4-aeb3-7ac1db175f5d",
   "metadata": {},
   "source": [
    "* Normalization helps in better learning speed and faster performance.\n",
    "* It reduces variance and gives same range to all input features.\n",
    "* Since our dataset sets all inputs to 0 - 255, normalizating only helps reducing variances."
   ]
  },
  {
   "cell_type": "markdown",
   "id": "8de8bec7-5c34-42f2-9749-88f760fe6e28",
   "metadata": {},
   "source": [
    "## Displaying some images"
   ]
  },
  {
   "cell_type": "code",
   "execution_count": 5,
   "id": "2b531c49-546f-489c-857a-a0372fe37b64",
   "metadata": {},
   "outputs": [
    {
     "data": {
      "image/png": "[encoded data removed]",
      "text/plain": [
       "<Figure size 1000x700 with 10 Axes>"
      ]
     },
     "metadata": {},
     "output_type": "display_data"
    }
   ],
   "source": [
    "fig = plt.figure(figsize=(10, 7))\n",
    "for i in range(10):\n",
    "    ax = fig.add_subplot(2, 5, i+1, xticks =[], yticks=[])\n",
    "    ax.imshow(x_train[i])\n",
    "    ax.set_title(y_train[i])"
   ]
  },
  {
   "cell_type": "markdown",
   "id": "703c48cf-0681-44ed-803f-119eb362a6b9",
   "metadata": {},
   "source": [
    "## Splitting the train data into train and validation data"
   ]
  },
  {
   "cell_type": "code",
   "execution_count": 6,
   "id": "65041b4e-e58a-40b7-bad0-23656814726f",
   "metadata": {},
   "outputs": [
    {
     "name": "stdout",
     "output_type": "stream",
     "text": [
      "Train data has 50000 samples.\n",
      "validation data has 10000 samples.\n"
     ]
    }
   ],
   "source": [
    "x_val = x_train[50000 : 60000]\n",
    "x_train = x_train[0 : 50000]\n",
    "y_val = y_train[50000 : 60000]\n",
    "y_train = y_train[0 : 50000]\n",
    "\n",
    "print(\"Train data has \" + str(x_train.shape[0]) + \" samples.\")\n",
    "print(\"validation data has \" + str(x_val.shape[0]) + \" samples.\")"
   ]
  },
  {
   "cell_type": "markdown",
   "id": "eaeb3680-7baa-499b-b471-642355fa5f5b",
   "metadata": {},
   "source": [
    "* Validation during training give advantages.\n",
    "* It check the performance of training based on validation score.\n",
    "* We can apply **early stopping** when validation score doesn't improve while train score goes up.\n",
    "* Overcome **overfitting**."
   ]
  },
  {
   "cell_type": "markdown",
   "id": "5a018381-1a58-401f-9eda-8f079978c361",
   "metadata": {},
   "source": [
    "## Building The Model"
   ]
  },
  {
   "cell_type": "code",
   "execution_count": 7,
   "id": "ea93d6ed-3fd2-4176-ac97-6e515e6c3c1a",
   "metadata": {},
   "outputs": [
    {
     "name": "stdout",
     "output_type": "stream",
     "text": [
      "Metal device set to: Apple M1\n"
     ]
    },
    {
     "name": "stderr",
     "output_type": "stream",
     "text": [
      "2022-11-02 01:32:50.663526: I tensorflow/core/common_runtime/pluggable_device/pluggable_device_factory.cc:306] Could not identify NUMA node of platform GPU ID 0, defaulting to 0. Your kernel may not have been built with NUMA support.\n",
      "2022-11-02 01:32:50.663639: I tensorflow/core/common_runtime/pluggable_device/pluggable_device_factory.cc:272] Created TensorFlow device (/job:localhost/replica:0/task:0/device:GPU:0 with 0 MB memory) -> physical PluggableDevice (device: 0, name: METAL, pci bus id: <undefined>)\n"
     ]
    }
   ],
   "source": [
    "model = Sequential()\n",
    "model.add(Conv2D(32, (3, 3), activation='relu', input_shape=(28, 28, 1)))\n",
    "model.add(MaxPool2D((2, 2)))\n",
    "model.add(Conv2D(48, (3, 3), activation='relu'))\n",
    "model.add(MaxPool2D((2, 2)))\n",
    "model.add(Dropout(0.5))\n",
    "model.add(Flatten())\n",
    "model.add(Dense(500, activation='relu'))\n",
    "model.add(Dense(10, activation='softmax'))"
   ]
  },
  {
   "cell_type": "code",
   "execution_count": 8,
   "id": "5ef4cb06-6ce5-4095-a63e-001d2d799f13",
   "metadata": {},
   "outputs": [
    {
     "name": "stdout",
     "output_type": "stream",
     "text": [
      "Model: \"sequential\"\n",
      "_________________________________________________________________\n",
      " Layer (type)                Output Shape              Param #   \n",
      "=================================================================\n",
      " conv2d (Conv2D)             (None, 26, 26, 32)        320       \n",
      "                                                                 \n",
      " max_pooling2d (MaxPooling2D  (None, 13, 13, 32)       0         \n",
      " )                                                               \n",
      "                                                                 \n",
      " conv2d_1 (Conv2D)           (None, 11, 11, 48)        13872     \n",
      "                                                                 \n",
      " max_pooling2d_1 (MaxPooling  (None, 5, 5, 48)         0         \n",
      " 2D)                                                             \n",
      "                                                                 \n",
      " dropout (Dropout)           (None, 5, 5, 48)          0         \n",
      "                                                                 \n",
      " flatten (Flatten)           (None, 1200)              0         \n",
      "                                                                 \n",
      " dense (Dense)               (None, 500)               600500    \n",
      "                                                                 \n",
      " dense_1 (Dense)             (None, 10)                5010      \n",
      "                                                                 \n",
      "=================================================================\n",
      "Total params: 619,702\n",
      "Trainable params: 619,702\n",
      "Non-trainable params: 0\n",
      "_________________________________________________________________\n"
     ]
    }
   ],
   "source": [
    "model.summary()"
   ]
  },
  {
   "cell_type": "code",
   "execution_count": 9,
   "id": "9812ad16-ea5c-4ab5-bc7c-a48e896b3d36",
   "metadata": {},
   "outputs": [
    {
     "name": "stdout",
     "output_type": "stream",
     "text": [
      "You must install pydot (`pip install pydot`) and install graphviz (see instructions at https://graphviz.gitlab.io/download/) for plot_model to work.\n"
     ]
    }
   ],
   "source": [
    "plot_model(model, 'models/model_cnn.png', show_shapes=True)"
   ]
  },
  {
   "cell_type": "code",
   "execution_count": 10,
   "id": "be789ef3-53f4-4df0-8d4a-0fa1881a2328",
   "metadata": {},
   "outputs": [],
   "source": [
    "model.compile(optimizer='adam',\n",
    "              loss = 'sparse_categorical_crossentropy',\n",
    "              metrics=['accuracy'])"
   ]
  },
  {
   "cell_type": "code",
   "execution_count": 11,
   "id": "29ad13da-bd08-4c0f-b351-8de856a68bd9",
   "metadata": {},
   "outputs": [
    {
     "name": "stdout",
     "output_type": "stream",
     "text": [
      "Epoch 1/15\n"
     ]
    },
    {
     "name": "stderr",
     "output_type": "stream",
     "text": [
      "2022-11-02 01:32:50.916258: W tensorflow/core/platform/profile_utils/cpu_utils.cc:128] Failed to get CPU frequency: 0 Hz\n",
      "2022-11-02 01:32:51.070219: I tensorflow/core/grappler/optimizers/custom_graph_optimizer_registry.cc:114] Plugin optimizer for device_type GPU is enabled.\n"
     ]
    },
    {
     "name": "stdout",
     "output_type": "stream",
     "text": [
      "391/391 [==============================] - ETA: 0s - loss: 0.2477 - accuracy: 0.9234"
     ]
    },
    {
     "name": "stderr",
     "output_type": "stream",
     "text": [
      "2022-11-02 01:32:56.453614: I tensorflow/core/grappler/optimizers/custom_graph_optimizer_registry.cc:114] Plugin optimizer for device_type GPU is enabled.\n"
     ]
    },
    {
     "name": "stdout",
     "output_type": "stream",
     "text": [
      "391/391 [==============================] - 6s 15ms/step - loss: 0.2477 - accuracy: 0.9234 - val_loss: 0.0640 - val_accuracy: 0.9827\n",
      "Epoch 2/15\n",
      "391/391 [==============================] - 5s 14ms/step - loss: 0.0832 - accuracy: 0.9739 - val_loss: 0.0498 - val_accuracy: 0.9857\n",
      "Epoch 3/15\n",
      "391/391 [==============================] - 6s 14ms/step - loss: 0.0593 - accuracy: 0.9816 - val_loss: 0.0416 - val_accuracy: 0.9884\n",
      "Epoch 4/15\n",
      "391/391 [==============================] - 6s 15ms/step - loss: 0.0468 - accuracy: 0.9855 - val_loss: 0.0423 - val_accuracy: 0.9873\n",
      "Epoch 5/15\n",
      "391/391 [==============================] - 5s 14ms/step - loss: 0.0410 - accuracy: 0.9870 - val_loss: 0.0332 - val_accuracy: 0.9899\n",
      "Epoch 6/15\n",
      "391/391 [==============================] - 5s 14ms/step - loss: 0.0339 - accuracy: 0.9892 - val_loss: 0.0299 - val_accuracy: 0.9911\n",
      "Epoch 7/15\n",
      "391/391 [==============================] - 5s 14ms/step - loss: 0.0305 - accuracy: 0.9902 - val_loss: 0.0340 - val_accuracy: 0.9910\n",
      "Epoch 8/15\n",
      "391/391 [==============================] - 5s 14ms/step - loss: 0.0284 - accuracy: 0.9907 - val_loss: 0.0316 - val_accuracy: 0.9909\n",
      "Epoch 9/15\n",
      "391/391 [==============================] - 5s 14ms/step - loss: 0.0246 - accuracy: 0.9920 - val_loss: 0.0336 - val_accuracy: 0.9905\n",
      "Epoch 10/15\n",
      "391/391 [==============================] - 5s 14ms/step - loss: 0.0228 - accuracy: 0.9924 - val_loss: 0.0284 - val_accuracy: 0.9924\n",
      "Epoch 11/15\n",
      "391/391 [==============================] - 5s 14ms/step - loss: 0.0202 - accuracy: 0.9932 - val_loss: 0.0313 - val_accuracy: 0.9911\n",
      "Epoch 12/15\n",
      "391/391 [==============================] - 5s 14ms/step - loss: 0.0180 - accuracy: 0.9943 - val_loss: 0.0329 - val_accuracy: 0.9916\n",
      "Epoch 13/15\n",
      "391/391 [==============================] - 6s 14ms/step - loss: 0.0180 - accuracy: 0.9937 - val_loss: 0.0271 - val_accuracy: 0.9916\n",
      "Epoch 14/15\n",
      "391/391 [==============================] - 6s 15ms/step - loss: 0.0162 - accuracy: 0.9944 - val_loss: 0.0292 - val_accuracy: 0.9923\n",
      "Epoch 15/15\n",
      "391/391 [==============================] - 6s 15ms/step - loss: 0.0142 - accuracy: 0.9952 - val_loss: 0.0284 - val_accuracy: 0.9932\n"
     ]
    },
    {
     "data": {
      "text/plain": [
       "<keras.callbacks.History at 0x1666c6050>"
      ]
     },
     "execution_count": 11,
     "metadata": {},
     "output_type": "execute_result"
    }
   ],
   "source": [
    "model.fit(x_train, y_train, epochs=15, batch_size=128, verbose=1, validation_data=(x_val, y_val))"
   ]
  },
  {
   "cell_type": "code",
   "execution_count": 12,
   "id": "8b505979-a0c8-4042-8380-5b52ba53abab",
   "metadata": {},
   "outputs": [
    {
     "name": "stdout",
     "output_type": "stream",
     "text": [
      "313/313 [==============================] - 2s 5ms/step - loss: 0.0230 - accuracy: 0.9936\n"
     ]
    }
   ],
   "source": [
    "score = model.evaluate(x_test, y_test)"
   ]
  },
  {
   "cell_type": "code",
   "execution_count": 13,
   "id": "f23f6d42-b7f3-4bda-9402-c337cad4089e",
   "metadata": {},
   "outputs": [
    {
     "name": "stdout",
     "output_type": "stream",
     "text": [
      "Test loss: 0.023029787465929985\n",
      "Test accuracy: 0.993600070476532\n"
     ]
    }
   ],
   "source": [
    "print('Test loss:', score[0])\n",
    "print('Test accuracy:', score[1])"
   ]
  },
  {
   "cell_type": "code",
   "execution_count": 14,
   "id": "33dcc2aa-e3c2-495c-a4ce-3215f20de084",
   "metadata": {},
   "outputs": [],
   "source": [
    "model.save('models/digit_model.h5')"
   ]
  },
  {
   "cell_type": "code",
   "execution_count": 15,
   "id": "b32df31e-ea24-48fc-8033-a4c53bec5850",
   "metadata": {},
   "outputs": [
    {
     "ename": "ModuleNotFoundError",
     "evalue": "No module named 'tensorflowjs'",
     "output_type": "error",
     "traceback": [
      "\u001b[0;31m---------------------------------------------------------------------------\u001b[0m",
      "\u001b[0;31mModuleNotFoundError\u001b[0m                       Traceback (most recent call last)",
      "Cell \u001b[0;32mIn [15], line 1\u001b[0m\n\u001b[0;32m----> 1\u001b[0m \u001b[38;5;28;01mimport\u001b[39;00m \u001b[38;5;21;01mtensorflowjs\u001b[39;00m \u001b[38;5;28;01mas\u001b[39;00m \u001b[38;5;21;01mtfjs\u001b[39;00m\n\u001b[1;32m      2\u001b[0m tfjs\u001b[38;5;241m.\u001b[39mconverters\u001b[38;5;241m.\u001b[39msave_keras_model(model,\u001b[38;5;124m\"\u001b[39m\u001b[38;5;124mmodels/\u001b[39m\u001b[38;5;124m\"\u001b[39m)\n",
      "\u001b[0;31mModuleNotFoundError\u001b[0m: No module named 'tensorflowjs'"
     ]
    }
   ],
   "source": [
    "import tensorflowjs as tfjs\n",
    "tfjs.converters.save_keras_model(model,\"models/\")"
   ]
  }
 ],
 "metadata": {
  "kernelspec": {
   "display_name": "Python 3 (ipykernel)",
   "language": "python",
   "name": "python3"
  },
  "language_info": {
   "codemirror_mode": {
    "name": "ipython",
    "version": 3
   },
   "file_extension": ".py",
   "mimetype": "text/x-python",
   "name": "python",
   "nbconvert_exporter": "python",
   "pygments_lexer": "ipython3",
   "version": "3.10.6"
  },
  "vscode": {
   "interpreter": {
    "hash": "31f2aee4e71d21fbe5cf8b01ff0e069b9275f58929596ceb00d14d90e3e16cd6"
   }
  }
 },
 "nbformat": 4,
 "nbformat_minor": 5
}
